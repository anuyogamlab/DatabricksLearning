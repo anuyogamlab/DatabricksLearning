{
 "cells": [
  {
   "cell_type": "code",
   "execution_count": 0,
   "metadata": {
    "application/vnd.databricks.v1+cell": {
     "cellMetadata": {
      "byteLimit": 2048000,
      "rowLimit": 10000
     },
     "inputWidgets": {},
     "nuid": "bb0e89ca-e0a5-48e4-9e3a-91b17879e84b",
     "showTitle": false,
     "title": ""
    }
   },
   "outputs": [],
   "source": [
    "print \"Databricks Learning\""
   ]
  }
 ],
 "metadata": {
  "application/vnd.databricks.v1+notebook": {
   "dashboards": [],
   "language": "python",
   "notebookMetadata": {
    "pythonIndentUnit": 4
   },
   "notebookName": "SampleNotebook",
   "notebookOrigID": 2921326625107295,
   "widgets": {}
  }
 },
 "nbformat": 4,
 "nbformat_minor": 0
}
